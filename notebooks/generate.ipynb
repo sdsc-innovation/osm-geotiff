{
 "cells": [
  {
   "cell_type": "markdown",
   "id": "493672fc-0abf-44ce-9b52-cc993d14f4ba",
   "metadata": {
    "editable": true,
    "slideshow": {
     "slide_type": ""
    },
    "tags": []
   },
   "source": [
    "# Generate GeoTIFF\n",
    "\n",
    "In this notebook, the OpenStreetMap dump for Switzerland (i.e. `switzerland-latest-free.shp.zip`, downloaded from [Geofabrik](https://download.geofabrik.de/europe/switzerland.html)) is rasterized into a single GeoTIFF file.\n",
    "Several channels are exported, with different meanings."
   ]
  },
  {
   "cell_type": "code",
   "execution_count": 1,
   "id": "eaa5116b-5eaa-48e4-9a36-2ac434824c92",
   "metadata": {},
   "outputs": [],
   "source": [
    "import math\n",
    "\n",
    "import numpy as np\n",
    "import pandas as pd\n",
    "\n",
    "from pyproj import CRS, Transformer\n",
    "\n",
    "import geopandas as gpd\n",
    "import pyogrio\n",
    "\n",
    "import cairo\n",
    "\n",
    "import rasterio\n",
    "\n",
    "from tqdm.auto import tqdm"
   ]
  },
  {
   "cell_type": "code",
   "execution_count": 2,
   "id": "76b745bb-ed08-4e3a-8743-321d6878348f",
   "metadata": {
    "editable": true,
    "slideshow": {
     "slide_type": ""
    },
    "tags": []
   },
   "outputs": [],
   "source": [
    "pd.options.mode.copy_on_write = True"
   ]
  },
  {
   "cell_type": "code",
   "execution_count": 3,
   "id": "728e58fb-9ac2-48af-bdbe-8c81a1fd149d",
   "metadata": {
    "editable": true,
    "slideshow": {
     "slide_type": ""
    },
    "tags": [
     "parameters"
    ]
   },
   "outputs": [],
   "source": [
    "# File locations\n",
    "input_path = \"../data/switzerland-latest-free.shp.zip\"\n",
    "output_path = \"../data/switzerland.tif\"\n",
    "\n",
    "# Size of a single pixel, in meters\n",
    "step = 100"
   ]
  },
  {
   "cell_type": "markdown",
   "id": "799ce56a-0fcc-4eea-94bf-9d90e6aa6ed1",
   "metadata": {},
   "source": [
    "## Layer definitions"
   ]
  },
  {
   "cell_type": "markdown",
   "id": "65df7712-4480-4072-bb7f-90e1f726112f",
   "metadata": {
    "editable": true,
    "slideshow": {
     "slide_type": ""
    },
    "tags": []
   },
   "source": [
    "### Buildings"
   ]
  },
  {
   "cell_type": "code",
   "execution_count": 4,
   "id": "23d7b40e-db21-4d88-9f94-2a8b5f797dc3",
   "metadata": {
    "editable": true,
    "slideshow": {
     "slide_type": ""
    },
    "tags": []
   },
   "outputs": [
    {
     "data": {
      "text/html": [
       "<div>\n",
       "<style scoped>\n",
       "    .dataframe tbody tr th:only-of-type {\n",
       "        vertical-align: middle;\n",
       "    }\n",
       "\n",
       "    .dataframe tbody tr th {\n",
       "        vertical-align: top;\n",
       "    }\n",
       "\n",
       "    .dataframe thead th {\n",
       "        text-align: right;\n",
       "    }\n",
       "</style>\n",
       "<table border=\"1\" class=\"dataframe\">\n",
       "  <thead>\n",
       "    <tr style=\"text-align: right;\">\n",
       "      <th></th>\n",
       "      <th>osm_id</th>\n",
       "      <th>code</th>\n",
       "      <th>fclass</th>\n",
       "      <th>name</th>\n",
       "      <th>type</th>\n",
       "      <th>geometry</th>\n",
       "    </tr>\n",
       "  </thead>\n",
       "  <tbody>\n",
       "    <tr>\n",
       "      <th>0</th>\n",
       "      <td>4087332</td>\n",
       "      <td>1500</td>\n",
       "      <td>building</td>\n",
       "      <td>None</td>\n",
       "      <td>retail</td>\n",
       "      <td>POLYGON ((9.37084 47.42154, 9.37132 47.42172, ...</td>\n",
       "    </tr>\n",
       "    <tr>\n",
       "      <th>1</th>\n",
       "      <td>4418729</td>\n",
       "      <td>1500</td>\n",
       "      <td>building</td>\n",
       "      <td>Kulturzentrum Obere Mühle</td>\n",
       "      <td>None</td>\n",
       "      <td>POLYGON ((8.62381 47.39540, 8.62395 47.39545, ...</td>\n",
       "    </tr>\n",
       "    <tr>\n",
       "      <th>2</th>\n",
       "      <td>4418785</td>\n",
       "      <td>1500</td>\n",
       "      <td>building</td>\n",
       "      <td>Stadthaus Dübendorf</td>\n",
       "      <td>None</td>\n",
       "      <td>POLYGON ((8.61789 47.39689, 8.61804 47.39702, ...</td>\n",
       "    </tr>\n",
       "    <tr>\n",
       "      <th>3</th>\n",
       "      <td>4592724</td>\n",
       "      <td>1500</td>\n",
       "      <td>building</td>\n",
       "      <td>None</td>\n",
       "      <td>toilets</td>\n",
       "      <td>POLYGON ((8.52785 47.37481, 8.52793 47.37485, ...</td>\n",
       "    </tr>\n",
       "    <tr>\n",
       "      <th>4</th>\n",
       "      <td>4684660</td>\n",
       "      <td>1500</td>\n",
       "      <td>building</td>\n",
       "      <td>Airside Center</td>\n",
       "      <td>transportation</td>\n",
       "      <td>POLYGON ((8.56039 47.45128, 8.56040 47.45136, ...</td>\n",
       "    </tr>\n",
       "    <tr>\n",
       "      <th>...</th>\n",
       "      <td>...</td>\n",
       "      <td>...</td>\n",
       "      <td>...</td>\n",
       "      <td>...</td>\n",
       "      <td>...</td>\n",
       "      <td>...</td>\n",
       "    </tr>\n",
       "    <tr>\n",
       "      <th>2653328</th>\n",
       "      <td>1242981192</td>\n",
       "      <td>1500</td>\n",
       "      <td>building</td>\n",
       "      <td>None</td>\n",
       "      <td>None</td>\n",
       "      <td>POLYGON ((9.56142 46.96688, 9.56145 46.96689, ...</td>\n",
       "    </tr>\n",
       "    <tr>\n",
       "      <th>2653329</th>\n",
       "      <td>1242981193</td>\n",
       "      <td>1500</td>\n",
       "      <td>building</td>\n",
       "      <td>None</td>\n",
       "      <td>None</td>\n",
       "      <td>POLYGON ((9.56027 46.96644, 9.56032 46.96646, ...</td>\n",
       "    </tr>\n",
       "    <tr>\n",
       "      <th>2653330</th>\n",
       "      <td>1242981194</td>\n",
       "      <td>1500</td>\n",
       "      <td>building</td>\n",
       "      <td>None</td>\n",
       "      <td>None</td>\n",
       "      <td>POLYGON ((9.56017 46.96637, 9.56024 46.96640, ...</td>\n",
       "    </tr>\n",
       "    <tr>\n",
       "      <th>2653331</th>\n",
       "      <td>1242981195</td>\n",
       "      <td>1500</td>\n",
       "      <td>building</td>\n",
       "      <td>None</td>\n",
       "      <td>None</td>\n",
       "      <td>POLYGON ((9.55978 46.96615, 9.55983 46.96618, ...</td>\n",
       "    </tr>\n",
       "    <tr>\n",
       "      <th>2653332</th>\n",
       "      <td>1242981196</td>\n",
       "      <td>1500</td>\n",
       "      <td>building</td>\n",
       "      <td>None</td>\n",
       "      <td>None</td>\n",
       "      <td>POLYGON ((9.55945 46.96623, 9.55952 46.96625, ...</td>\n",
       "    </tr>\n",
       "  </tbody>\n",
       "</table>\n",
       "<p>2653333 rows × 6 columns</p>\n",
       "</div>"
      ],
      "text/plain": [
       "             osm_id  code    fclass                       name  \\\n",
       "0           4087332  1500  building                       None   \n",
       "1           4418729  1500  building  Kulturzentrum Obere Mühle   \n",
       "2           4418785  1500  building        Stadthaus Dübendorf   \n",
       "3           4592724  1500  building                       None   \n",
       "4           4684660  1500  building             Airside Center   \n",
       "...             ...   ...       ...                        ...   \n",
       "2653328  1242981192  1500  building                       None   \n",
       "2653329  1242981193  1500  building                       None   \n",
       "2653330  1242981194  1500  building                       None   \n",
       "2653331  1242981195  1500  building                       None   \n",
       "2653332  1242981196  1500  building                       None   \n",
       "\n",
       "                   type                                           geometry  \n",
       "0                retail  POLYGON ((9.37084 47.42154, 9.37132 47.42172, ...  \n",
       "1                  None  POLYGON ((8.62381 47.39540, 8.62395 47.39545, ...  \n",
       "2                  None  POLYGON ((8.61789 47.39689, 8.61804 47.39702, ...  \n",
       "3               toilets  POLYGON ((8.52785 47.37481, 8.52793 47.37485, ...  \n",
       "4        transportation  POLYGON ((8.56039 47.45128, 8.56040 47.45136, ...  \n",
       "...                 ...                                                ...  \n",
       "2653328            None  POLYGON ((9.56142 46.96688, 9.56145 46.96689, ...  \n",
       "2653329            None  POLYGON ((9.56027 46.96644, 9.56032 46.96646, ...  \n",
       "2653330            None  POLYGON ((9.56017 46.96637, 9.56024 46.96640, ...  \n",
       "2653331            None  POLYGON ((9.55978 46.96615, 9.55983 46.96618, ...  \n",
       "2653332            None  POLYGON ((9.55945 46.96623, 9.55952 46.96625, ...  \n",
       "\n",
       "[2653333 rows x 6 columns]"
      ]
     },
     "execution_count": 4,
     "metadata": {},
     "output_type": "execute_result"
    }
   ],
   "source": [
    "# papermill_description=LoadBuildings\n",
    "path = f\"{input_path}!gis_osm_buildings_a_free_1.shp\"\n",
    "building_df = pyogrio.read_dataframe(path)\n",
    "building_df"
   ]
  },
  {
   "cell_type": "code",
   "execution_count": 5,
   "id": "bc15aea8-75a4-4709-8bf4-f03371cd967e",
   "metadata": {},
   "outputs": [
    {
     "data": {
      "text/plain": [
       "fclass\n",
       "building    2653333\n",
       "Name: count, dtype: int64"
      ]
     },
     "execution_count": 5,
     "metadata": {},
     "output_type": "execute_result"
    }
   ],
   "source": [
    "building_df[\"fclass\"].value_counts()"
   ]
  },
  {
   "cell_type": "code",
   "execution_count": 6,
   "id": "16914f6c-f906-4032-9b7e-581bd5525d0b",
   "metadata": {},
   "outputs": [
    {
     "data": {
      "text/plain": [
       "type\n",
       "residential        175200\n",
       "house              121279\n",
       "apartments         104124\n",
       "garage              52192\n",
       "detached            40937\n",
       "                    ...  \n",
       "clubhaus                1\n",
       "storage                 1\n",
       "production_hall         1\n",
       "saw                     1\n",
       "unterstand              1\n",
       "Name: count, Length: 287, dtype: int64"
      ]
     },
     "execution_count": 6,
     "metadata": {},
     "output_type": "execute_result"
    }
   ],
   "source": [
    "building_df[\"type\"].value_counts()"
   ]
  },
  {
   "cell_type": "markdown",
   "id": "f487be28-f993-4c89-bd09-c3812a809243",
   "metadata": {},
   "source": [
    "### Land use"
   ]
  },
  {
   "cell_type": "code",
   "execution_count": 7,
   "id": "8d88b139-30e8-4aca-bf3c-10d9f9593ed1",
   "metadata": {
    "editable": true,
    "slideshow": {
     "slide_type": ""
    },
    "tags": []
   },
   "outputs": [
    {
     "data": {
      "text/html": [
       "<div>\n",
       "<style scoped>\n",
       "    .dataframe tbody tr th:only-of-type {\n",
       "        vertical-align: middle;\n",
       "    }\n",
       "\n",
       "    .dataframe tbody tr th {\n",
       "        vertical-align: top;\n",
       "    }\n",
       "\n",
       "    .dataframe thead th {\n",
       "        text-align: right;\n",
       "    }\n",
       "</style>\n",
       "<table border=\"1\" class=\"dataframe\">\n",
       "  <thead>\n",
       "    <tr style=\"text-align: right;\">\n",
       "      <th></th>\n",
       "      <th>osm_id</th>\n",
       "      <th>code</th>\n",
       "      <th>fclass</th>\n",
       "      <th>name</th>\n",
       "      <th>geometry</th>\n",
       "    </tr>\n",
       "  </thead>\n",
       "  <tbody>\n",
       "    <tr>\n",
       "      <th>0</th>\n",
       "      <td>4251983</td>\n",
       "      <td>7201</td>\n",
       "      <td>forest</td>\n",
       "      <td>Brühlwald</td>\n",
       "      <td>POLYGON ((8.70937 47.50023, 8.70943 47.50031, ...</td>\n",
       "    </tr>\n",
       "    <tr>\n",
       "      <th>1</th>\n",
       "      <td>4260391</td>\n",
       "      <td>7201</td>\n",
       "      <td>forest</td>\n",
       "      <td>Wolfensberg</td>\n",
       "      <td>POLYGON ((8.69771 47.52016, 8.69906 47.52173, ...</td>\n",
       "    </tr>\n",
       "    <tr>\n",
       "      <th>2</th>\n",
       "      <td>4264293</td>\n",
       "      <td>7229</td>\n",
       "      <td>farmland</td>\n",
       "      <td>None</td>\n",
       "      <td>POLYGON ((8.77179 47.48390, 8.77189 47.48430, ...</td>\n",
       "    </tr>\n",
       "    <tr>\n",
       "      <th>3</th>\n",
       "      <td>4264597</td>\n",
       "      <td>7202</td>\n",
       "      <td>park</td>\n",
       "      <td>Unionsplatz</td>\n",
       "      <td>POLYGON ((8.71885 47.48911, 8.71930 47.48934, ...</td>\n",
       "    </tr>\n",
       "    <tr>\n",
       "      <th>4</th>\n",
       "      <td>4272831</td>\n",
       "      <td>7202</td>\n",
       "      <td>park</td>\n",
       "      <td>Parc Jardin Anglais</td>\n",
       "      <td>POLYGON ((6.14998 46.20491, 6.15002 46.20503, ...</td>\n",
       "    </tr>\n",
       "    <tr>\n",
       "      <th>...</th>\n",
       "      <td>...</td>\n",
       "      <td>...</td>\n",
       "      <td>...</td>\n",
       "      <td>...</td>\n",
       "      <td>...</td>\n",
       "    </tr>\n",
       "    <tr>\n",
       "      <th>303223</th>\n",
       "      <td>1242842548</td>\n",
       "      <td>7218</td>\n",
       "      <td>grass</td>\n",
       "      <td>None</td>\n",
       "      <td>POLYGON ((9.30277 46.76950, 9.30315 46.76970, ...</td>\n",
       "    </tr>\n",
       "    <tr>\n",
       "      <th>303224</th>\n",
       "      <td>1242847929</td>\n",
       "      <td>7218</td>\n",
       "      <td>grass</td>\n",
       "      <td>None</td>\n",
       "      <td>POLYGON ((6.84861 46.84196, 6.84880 46.84223, ...</td>\n",
       "    </tr>\n",
       "    <tr>\n",
       "      <th>303225</th>\n",
       "      <td>1242961769</td>\n",
       "      <td>7215</td>\n",
       "      <td>orchard</td>\n",
       "      <td>None</td>\n",
       "      <td>POLYGON ((9.55454 46.96996, 9.55463 46.97022, ...</td>\n",
       "    </tr>\n",
       "    <tr>\n",
       "      <th>303226</th>\n",
       "      <td>1242961780</td>\n",
       "      <td>7218</td>\n",
       "      <td>grass</td>\n",
       "      <td>None</td>\n",
       "      <td>POLYGON ((9.55493 46.97050, 9.55498 46.97067, ...</td>\n",
       "    </tr>\n",
       "    <tr>\n",
       "      <th>303227</th>\n",
       "      <td>1242981153</td>\n",
       "      <td>7215</td>\n",
       "      <td>orchard</td>\n",
       "      <td>None</td>\n",
       "      <td>POLYGON ((9.56367 46.96621, 9.56429 46.96629, ...</td>\n",
       "    </tr>\n",
       "  </tbody>\n",
       "</table>\n",
       "<p>303228 rows × 5 columns</p>\n",
       "</div>"
      ],
      "text/plain": [
       "            osm_id  code    fclass                 name  \\\n",
       "0          4251983  7201    forest            Brühlwald   \n",
       "1          4260391  7201    forest          Wolfensberg   \n",
       "2          4264293  7229  farmland                 None   \n",
       "3          4264597  7202      park          Unionsplatz   \n",
       "4          4272831  7202      park  Parc Jardin Anglais   \n",
       "...            ...   ...       ...                  ...   \n",
       "303223  1242842548  7218     grass                 None   \n",
       "303224  1242847929  7218     grass                 None   \n",
       "303225  1242961769  7215   orchard                 None   \n",
       "303226  1242961780  7218     grass                 None   \n",
       "303227  1242981153  7215   orchard                 None   \n",
       "\n",
       "                                                 geometry  \n",
       "0       POLYGON ((8.70937 47.50023, 8.70943 47.50031, ...  \n",
       "1       POLYGON ((8.69771 47.52016, 8.69906 47.52173, ...  \n",
       "2       POLYGON ((8.77179 47.48390, 8.77189 47.48430, ...  \n",
       "3       POLYGON ((8.71885 47.48911, 8.71930 47.48934, ...  \n",
       "4       POLYGON ((6.14998 46.20491, 6.15002 46.20503, ...  \n",
       "...                                                   ...  \n",
       "303223  POLYGON ((9.30277 46.76950, 9.30315 46.76970, ...  \n",
       "303224  POLYGON ((6.84861 46.84196, 6.84880 46.84223, ...  \n",
       "303225  POLYGON ((9.55454 46.96996, 9.55463 46.97022, ...  \n",
       "303226  POLYGON ((9.55493 46.97050, 9.55498 46.97067, ...  \n",
       "303227  POLYGON ((9.56367 46.96621, 9.56429 46.96629, ...  \n",
       "\n",
       "[303228 rows x 5 columns]"
      ]
     },
     "execution_count": 7,
     "metadata": {},
     "output_type": "execute_result"
    }
   ],
   "source": [
    "# papermill_description=LoadLandUse\n",
    "path = f\"zip://{input_path}!gis_osm_landuse_a_free_1.shp\"\n",
    "landuse_df = pyogrio.read_dataframe(path)\n",
    "landuse_df"
   ]
  },
  {
   "cell_type": "code",
   "execution_count": 8,
   "id": "757af0c7-1c6d-4726-b99d-ee7a6105deec",
   "metadata": {},
   "outputs": [
    {
     "data": {
      "text/plain": [
       "fclass\n",
       "allotments            2277\n",
       "cemetery              2331\n",
       "commercial            1356\n",
       "farmland             30205\n",
       "farmyard             18450\n",
       "forest               97639\n",
       "grass                32261\n",
       "heath                  804\n",
       "industrial            4422\n",
       "meadow               46564\n",
       "military               510\n",
       "nature_reserve         510\n",
       "orchard               6499\n",
       "park                  4064\n",
       "quarry                1101\n",
       "recreation_ground      650\n",
       "residential          18023\n",
       "retail                 424\n",
       "scrub                26932\n",
       "vineyard              8206\n",
       "Name: count, dtype: int64"
      ]
     },
     "execution_count": 8,
     "metadata": {},
     "output_type": "execute_result"
    }
   ],
   "source": [
    "landuse_df[\"fclass\"].value_counts().sort_index()"
   ]
  },
  {
   "cell_type": "code",
   "execution_count": 9,
   "id": "83ff7155-df64-4c20-aa64-4df5aeb55d52",
   "metadata": {},
   "outputs": [],
   "source": [
    "# Currently, we only extract forests\n",
    "forest_df = landuse_df[landuse_df[\"fclass\"] == \"forest\"]"
   ]
  },
  {
   "cell_type": "markdown",
   "id": "aa661bf0-4534-4ccf-89e5-7d7353cca172",
   "metadata": {},
   "source": [
    "### Roads"
   ]
  },
  {
   "cell_type": "code",
   "execution_count": 10,
   "id": "c8644da4-a352-4cbb-9fea-2dc70d298b3e",
   "metadata": {
    "editable": true,
    "slideshow": {
     "slide_type": ""
    },
    "tags": []
   },
   "outputs": [
    {
     "data": {
      "text/html": [
       "<div>\n",
       "<style scoped>\n",
       "    .dataframe tbody tr th:only-of-type {\n",
       "        vertical-align: middle;\n",
       "    }\n",
       "\n",
       "    .dataframe tbody tr th {\n",
       "        vertical-align: top;\n",
       "    }\n",
       "\n",
       "    .dataframe thead th {\n",
       "        text-align: right;\n",
       "    }\n",
       "</style>\n",
       "<table border=\"1\" class=\"dataframe\">\n",
       "  <thead>\n",
       "    <tr style=\"text-align: right;\">\n",
       "      <th></th>\n",
       "      <th>osm_id</th>\n",
       "      <th>code</th>\n",
       "      <th>fclass</th>\n",
       "      <th>name</th>\n",
       "      <th>ref</th>\n",
       "      <th>oneway</th>\n",
       "      <th>maxspeed</th>\n",
       "      <th>layer</th>\n",
       "      <th>bridge</th>\n",
       "      <th>tunnel</th>\n",
       "      <th>geometry</th>\n",
       "    </tr>\n",
       "  </thead>\n",
       "  <tbody>\n",
       "    <tr>\n",
       "      <th>0</th>\n",
       "      <td>78216</td>\n",
       "      <td>5131</td>\n",
       "      <td>motorway_link</td>\n",
       "      <td>None</td>\n",
       "      <td>A6</td>\n",
       "      <td>F</td>\n",
       "      <td>0</td>\n",
       "      <td>0</td>\n",
       "      <td>F</td>\n",
       "      <td>F</td>\n",
       "      <td>LINESTRING (7.60120 46.74213, 7.60122 46.74212...</td>\n",
       "    </tr>\n",
       "    <tr>\n",
       "      <th>1</th>\n",
       "      <td>78279</td>\n",
       "      <td>5114</td>\n",
       "      <td>secondary</td>\n",
       "      <td>Hohmadstrasse</td>\n",
       "      <td>None</td>\n",
       "      <td>F</td>\n",
       "      <td>50</td>\n",
       "      <td>0</td>\n",
       "      <td>F</td>\n",
       "      <td>F</td>\n",
       "      <td>LINESTRING (7.62343 46.74946, 7.62335 46.74943...</td>\n",
       "    </tr>\n",
       "    <tr>\n",
       "      <th>2</th>\n",
       "      <td>326729</td>\n",
       "      <td>5141</td>\n",
       "      <td>service</td>\n",
       "      <td>Wydengässli</td>\n",
       "      <td>None</td>\n",
       "      <td>B</td>\n",
       "      <td>0</td>\n",
       "      <td>0</td>\n",
       "      <td>F</td>\n",
       "      <td>F</td>\n",
       "      <td>LINESTRING (7.83522 46.67479, 7.83518 46.67486...</td>\n",
       "    </tr>\n",
       "    <tr>\n",
       "      <th>3</th>\n",
       "      <td>728458</td>\n",
       "      <td>5131</td>\n",
       "      <td>motorway_link</td>\n",
       "      <td>None</td>\n",
       "      <td>None</td>\n",
       "      <td>F</td>\n",
       "      <td>100</td>\n",
       "      <td>0</td>\n",
       "      <td>F</td>\n",
       "      <td>F</td>\n",
       "      <td>LINESTRING (7.60285 46.74277, 7.60296 46.74300...</td>\n",
       "    </tr>\n",
       "    <tr>\n",
       "      <th>4</th>\n",
       "      <td>728459</td>\n",
       "      <td>5131</td>\n",
       "      <td>motorway_link</td>\n",
       "      <td>None</td>\n",
       "      <td>None</td>\n",
       "      <td>F</td>\n",
       "      <td>60</td>\n",
       "      <td>0</td>\n",
       "      <td>F</td>\n",
       "      <td>F</td>\n",
       "      <td>LINESTRING (7.60441 46.74321, 7.60438 46.74322...</td>\n",
       "    </tr>\n",
       "    <tr>\n",
       "      <th>...</th>\n",
       "      <td>...</td>\n",
       "      <td>...</td>\n",
       "      <td>...</td>\n",
       "      <td>...</td>\n",
       "      <td>...</td>\n",
       "      <td>...</td>\n",
       "      <td>...</td>\n",
       "      <td>...</td>\n",
       "      <td>...</td>\n",
       "      <td>...</td>\n",
       "      <td>...</td>\n",
       "    </tr>\n",
       "    <tr>\n",
       "      <th>1636967</th>\n",
       "      <td>1243004338</td>\n",
       "      <td>5153</td>\n",
       "      <td>footway</td>\n",
       "      <td>None</td>\n",
       "      <td>None</td>\n",
       "      <td>B</td>\n",
       "      <td>0</td>\n",
       "      <td>0</td>\n",
       "      <td>F</td>\n",
       "      <td>F</td>\n",
       "      <td>LINESTRING (8.17762 47.03455, 8.17762 47.03455)</td>\n",
       "    </tr>\n",
       "    <tr>\n",
       "      <th>1636968</th>\n",
       "      <td>1243004339</td>\n",
       "      <td>5141</td>\n",
       "      <td>service</td>\n",
       "      <td>None</td>\n",
       "      <td>None</td>\n",
       "      <td>B</td>\n",
       "      <td>0</td>\n",
       "      <td>0</td>\n",
       "      <td>F</td>\n",
       "      <td>F</td>\n",
       "      <td>LINESTRING (8.17764 47.03452, 8.17765 47.03450...</td>\n",
       "    </tr>\n",
       "    <tr>\n",
       "      <th>1636969</th>\n",
       "      <td>1243004340</td>\n",
       "      <td>5153</td>\n",
       "      <td>footway</td>\n",
       "      <td>None</td>\n",
       "      <td>None</td>\n",
       "      <td>B</td>\n",
       "      <td>0</td>\n",
       "      <td>0</td>\n",
       "      <td>F</td>\n",
       "      <td>F</td>\n",
       "      <td>LINESTRING (8.17795 47.03437, 8.17796 47.03440...</td>\n",
       "    </tr>\n",
       "    <tr>\n",
       "      <th>1636970</th>\n",
       "      <td>1243004341</td>\n",
       "      <td>5153</td>\n",
       "      <td>footway</td>\n",
       "      <td>None</td>\n",
       "      <td>None</td>\n",
       "      <td>B</td>\n",
       "      <td>0</td>\n",
       "      <td>0</td>\n",
       "      <td>F</td>\n",
       "      <td>F</td>\n",
       "      <td>LINESTRING (8.17812 47.03447, 8.17813 47.03448)</td>\n",
       "    </tr>\n",
       "    <tr>\n",
       "      <th>1636971</th>\n",
       "      <td>1243004342</td>\n",
       "      <td>5153</td>\n",
       "      <td>footway</td>\n",
       "      <td>None</td>\n",
       "      <td>None</td>\n",
       "      <td>B</td>\n",
       "      <td>0</td>\n",
       "      <td>0</td>\n",
       "      <td>F</td>\n",
       "      <td>F</td>\n",
       "      <td>LINESTRING (8.17795 47.03437, 8.17796 47.03438)</td>\n",
       "    </tr>\n",
       "  </tbody>\n",
       "</table>\n",
       "<p>1636972 rows × 11 columns</p>\n",
       "</div>"
      ],
      "text/plain": [
       "             osm_id  code         fclass           name   ref oneway  \\\n",
       "0             78216  5131  motorway_link           None    A6      F   \n",
       "1             78279  5114      secondary  Hohmadstrasse  None      F   \n",
       "2            326729  5141        service    Wydengässli  None      B   \n",
       "3            728458  5131  motorway_link           None  None      F   \n",
       "4            728459  5131  motorway_link           None  None      F   \n",
       "...             ...   ...            ...            ...   ...    ...   \n",
       "1636967  1243004338  5153        footway           None  None      B   \n",
       "1636968  1243004339  5141        service           None  None      B   \n",
       "1636969  1243004340  5153        footway           None  None      B   \n",
       "1636970  1243004341  5153        footway           None  None      B   \n",
       "1636971  1243004342  5153        footway           None  None      B   \n",
       "\n",
       "         maxspeed  layer bridge tunnel  \\\n",
       "0               0      0      F      F   \n",
       "1              50      0      F      F   \n",
       "2               0      0      F      F   \n",
       "3             100      0      F      F   \n",
       "4              60      0      F      F   \n",
       "...           ...    ...    ...    ...   \n",
       "1636967         0      0      F      F   \n",
       "1636968         0      0      F      F   \n",
       "1636969         0      0      F      F   \n",
       "1636970         0      0      F      F   \n",
       "1636971         0      0      F      F   \n",
       "\n",
       "                                                  geometry  \n",
       "0        LINESTRING (7.60120 46.74213, 7.60122 46.74212...  \n",
       "1        LINESTRING (7.62343 46.74946, 7.62335 46.74943...  \n",
       "2        LINESTRING (7.83522 46.67479, 7.83518 46.67486...  \n",
       "3        LINESTRING (7.60285 46.74277, 7.60296 46.74300...  \n",
       "4        LINESTRING (7.60441 46.74321, 7.60438 46.74322...  \n",
       "...                                                    ...  \n",
       "1636967    LINESTRING (8.17762 47.03455, 8.17762 47.03455)  \n",
       "1636968  LINESTRING (8.17764 47.03452, 8.17765 47.03450...  \n",
       "1636969  LINESTRING (8.17795 47.03437, 8.17796 47.03440...  \n",
       "1636970    LINESTRING (8.17812 47.03447, 8.17813 47.03448)  \n",
       "1636971    LINESTRING (8.17795 47.03437, 8.17796 47.03438)  \n",
       "\n",
       "[1636972 rows x 11 columns]"
      ]
     },
     "execution_count": 10,
     "metadata": {},
     "output_type": "execute_result"
    }
   ],
   "source": [
    "# papermill_description=LoadRoads\n",
    "path = f\"zip://{input_path}!gis_osm_roads_free_1.shp\"\n",
    "road_df = pyogrio.read_dataframe(path)\n",
    "road_df"
   ]
  },
  {
   "cell_type": "code",
   "execution_count": 11,
   "id": "c52f1fc3-f44b-4823-97b8-63478f9d4c21",
   "metadata": {},
   "outputs": [
    {
     "data": {
      "text/plain": [
       "fclass\n",
       "bridleway            366\n",
       "busway                 1\n",
       "cycleway           17204\n",
       "footway           285058\n",
       "living_street       5772\n",
       "motorway            8046\n",
       "motorway_link       5706\n",
       "path              189963\n",
       "pedestrian          6887\n",
       "primary            29507\n",
       "primary_link         896\n",
       "residential       179378\n",
       "secondary          32103\n",
       "secondary_link       582\n",
       "service           373138\n",
       "steps              51684\n",
       "tertiary           44903\n",
       "tertiary_link        389\n",
       "track              77919\n",
       "track_grade1       52843\n",
       "track_grade2       89638\n",
       "track_grade3       65598\n",
       "track_grade4       29494\n",
       "track_grade5       22804\n",
       "trunk               2192\n",
       "trunk_link          1067\n",
       "unclassified       63808\n",
       "unknown               26\n",
       "Name: count, dtype: int64"
      ]
     },
     "execution_count": 11,
     "metadata": {},
     "output_type": "execute_result"
    }
   ],
   "source": [
    "road_df[\"fclass\"].value_counts().sort_index()"
   ]
  },
  {
   "cell_type": "code",
   "execution_count": 12,
   "id": "ca425b27-cf18-4c45-b920-43cf7a3eb308",
   "metadata": {},
   "outputs": [
    {
     "data": {
      "text/plain": [
       "oneway\n",
       "B    1562266\n",
       "F      74518\n",
       "T        188\n",
       "Name: count, dtype: int64"
      ]
     },
     "execution_count": 12,
     "metadata": {},
     "output_type": "execute_result"
    }
   ],
   "source": [
    "road_df[\"oneway\"].value_counts()"
   ]
  },
  {
   "cell_type": "code",
   "execution_count": 13,
   "id": "e67cfbea-d628-4ade-af63-1eec1a75bcb1",
   "metadata": {},
   "outputs": [
    {
     "data": {
      "text/plain": [
       "tunnel\n",
       "F    1619216\n",
       "T      17756\n",
       "Name: count, dtype: int64"
      ]
     },
     "execution_count": 13,
     "metadata": {},
     "output_type": "execute_result"
    }
   ],
   "source": [
    "road_df[\"tunnel\"].value_counts()"
   ]
  },
  {
   "cell_type": "code",
   "execution_count": 14,
   "id": "59c67d96-4036-4150-8353-00e3c97bb759",
   "metadata": {},
   "outputs": [],
   "source": [
    "# Ignore tunnels\n",
    "road_df = road_df[road_df[\"tunnel\"] == \"F\"]"
   ]
  },
  {
   "cell_type": "code",
   "execution_count": 15,
   "id": "245428cb-fe70-41f4-a13e-0a4caa4da1d3",
   "metadata": {},
   "outputs": [],
   "source": [
    "# Estimate width based on type\n",
    "# https://doc.arcgis.com/en/cityengine/latest/tutorials/tutorial-4-import-streets.htm\n",
    "widths = {\n",
    "    \"primary\": 8,\n",
    "    \"secondary\": 7,\n",
    "    \"tertiary\": 6,\n",
    "    \"motorway\": 12,\n",
    "    \"trunk\": 11,\n",
    "    \"road\": 6,\n",
    "    \"residential\": 5,\n",
    "    \"footway\": 2,\n",
    "    \"cycleway\": 2,\n",
    "    \"steps\": 2,\n",
    "}\n",
    "\n",
    "\n",
    "def estimate_width(row):\n",
    "    w = widths.get(row[\"fclass\"], 4)\n",
    "    if row[\"oneway\"] == \"T\":\n",
    "        w /= 2\n",
    "    return w\n",
    "\n",
    "\n",
    "road_df[\"width\"] = road_df.apply(estimate_width, axis=1)"
   ]
  },
  {
   "cell_type": "markdown",
   "id": "92a5e2a9-11b4-4e4d-885a-7510ea7d9617",
   "metadata": {},
   "source": [
    "### Railways"
   ]
  },
  {
   "cell_type": "code",
   "execution_count": 16,
   "id": "c067615a-e26b-495c-8fcd-7cc6c2a86528",
   "metadata": {
    "editable": true,
    "slideshow": {
     "slide_type": ""
    },
    "tags": []
   },
   "outputs": [
    {
     "data": {
      "text/html": [
       "<div>\n",
       "<style scoped>\n",
       "    .dataframe tbody tr th:only-of-type {\n",
       "        vertical-align: middle;\n",
       "    }\n",
       "\n",
       "    .dataframe tbody tr th {\n",
       "        vertical-align: top;\n",
       "    }\n",
       "\n",
       "    .dataframe thead th {\n",
       "        text-align: right;\n",
       "    }\n",
       "</style>\n",
       "<table border=\"1\" class=\"dataframe\">\n",
       "  <thead>\n",
       "    <tr style=\"text-align: right;\">\n",
       "      <th></th>\n",
       "      <th>osm_id</th>\n",
       "      <th>code</th>\n",
       "      <th>fclass</th>\n",
       "      <th>name</th>\n",
       "      <th>layer</th>\n",
       "      <th>bridge</th>\n",
       "      <th>tunnel</th>\n",
       "      <th>geometry</th>\n",
       "    </tr>\n",
       "  </thead>\n",
       "  <tbody>\n",
       "    <tr>\n",
       "      <th>0</th>\n",
       "      <td>2955839</td>\n",
       "      <td>6101</td>\n",
       "      <td>rail</td>\n",
       "      <td>None</td>\n",
       "      <td>0</td>\n",
       "      <td>F</td>\n",
       "      <td>F</td>\n",
       "      <td>LINESTRING (7.49353 47.01410, 7.49345 47.01405...</td>\n",
       "    </tr>\n",
       "    <tr>\n",
       "      <th>1</th>\n",
       "      <td>3847628</td>\n",
       "      <td>6101</td>\n",
       "      <td>rail</td>\n",
       "      <td>None</td>\n",
       "      <td>0</td>\n",
       "      <td>F</td>\n",
       "      <td>F</td>\n",
       "      <td>LINESTRING (9.37312 47.42627, 9.37271 47.42592)</td>\n",
       "    </tr>\n",
       "    <tr>\n",
       "      <th>2</th>\n",
       "      <td>3847633</td>\n",
       "      <td>6101</td>\n",
       "      <td>rail</td>\n",
       "      <td>None</td>\n",
       "      <td>0</td>\n",
       "      <td>F</td>\n",
       "      <td>F</td>\n",
       "      <td>LINESTRING (9.30402 47.40330, 9.30224 47.40371...</td>\n",
       "    </tr>\n",
       "    <tr>\n",
       "      <th>3</th>\n",
       "      <td>3847670</td>\n",
       "      <td>6101</td>\n",
       "      <td>rail</td>\n",
       "      <td>None</td>\n",
       "      <td>0</td>\n",
       "      <td>F</td>\n",
       "      <td>F</td>\n",
       "      <td>LINESTRING (8.53644 47.40599, 8.53635 47.40585...</td>\n",
       "    </tr>\n",
       "    <tr>\n",
       "      <th>4</th>\n",
       "      <td>3847672</td>\n",
       "      <td>6101</td>\n",
       "      <td>rail</td>\n",
       "      <td>None</td>\n",
       "      <td>0</td>\n",
       "      <td>F</td>\n",
       "      <td>F</td>\n",
       "      <td>LINESTRING (8.52087 47.38423, 8.52062 47.38429...</td>\n",
       "    </tr>\n",
       "    <tr>\n",
       "      <th>...</th>\n",
       "      <td>...</td>\n",
       "      <td>...</td>\n",
       "      <td>...</td>\n",
       "      <td>...</td>\n",
       "      <td>...</td>\n",
       "      <td>...</td>\n",
       "      <td>...</td>\n",
       "      <td>...</td>\n",
       "    </tr>\n",
       "    <tr>\n",
       "      <th>52596</th>\n",
       "      <td>1242172998</td>\n",
       "      <td>6101</td>\n",
       "      <td>rail</td>\n",
       "      <td>None</td>\n",
       "      <td>0</td>\n",
       "      <td>F</td>\n",
       "      <td>F</td>\n",
       "      <td>LINESTRING (6.72229 46.48775, 6.72286 46.48773...</td>\n",
       "    </tr>\n",
       "    <tr>\n",
       "      <th>52597</th>\n",
       "      <td>1242172999</td>\n",
       "      <td>6101</td>\n",
       "      <td>rail</td>\n",
       "      <td>None</td>\n",
       "      <td>0</td>\n",
       "      <td>F</td>\n",
       "      <td>F</td>\n",
       "      <td>LINESTRING (6.72286 46.48773, 6.72317 46.48774...</td>\n",
       "    </tr>\n",
       "    <tr>\n",
       "      <th>52598</th>\n",
       "      <td>1242294592</td>\n",
       "      <td>6101</td>\n",
       "      <td>rail</td>\n",
       "      <td>None</td>\n",
       "      <td>0</td>\n",
       "      <td>F</td>\n",
       "      <td>F</td>\n",
       "      <td>LINESTRING (6.72229 46.48775, 6.72265 46.48772...</td>\n",
       "    </tr>\n",
       "    <tr>\n",
       "      <th>52599</th>\n",
       "      <td>1242767423</td>\n",
       "      <td>6106</td>\n",
       "      <td>narrow_gauge</td>\n",
       "      <td>None</td>\n",
       "      <td>0</td>\n",
       "      <td>F</td>\n",
       "      <td>F</td>\n",
       "      <td>LINESTRING (7.90225 46.63169, 7.90210 46.63170...</td>\n",
       "    </tr>\n",
       "    <tr>\n",
       "      <th>52600</th>\n",
       "      <td>1242767424</td>\n",
       "      <td>6106</td>\n",
       "      <td>narrow_gauge</td>\n",
       "      <td>None</td>\n",
       "      <td>0</td>\n",
       "      <td>F</td>\n",
       "      <td>F</td>\n",
       "      <td>LINESTRING (7.90279 46.63166, 7.90243 46.63168...</td>\n",
       "    </tr>\n",
       "  </tbody>\n",
       "</table>\n",
       "<p>52601 rows × 8 columns</p>\n",
       "</div>"
      ],
      "text/plain": [
       "           osm_id  code        fclass  name  layer bridge tunnel  \\\n",
       "0         2955839  6101          rail  None      0      F      F   \n",
       "1         3847628  6101          rail  None      0      F      F   \n",
       "2         3847633  6101          rail  None      0      F      F   \n",
       "3         3847670  6101          rail  None      0      F      F   \n",
       "4         3847672  6101          rail  None      0      F      F   \n",
       "...           ...   ...           ...   ...    ...    ...    ...   \n",
       "52596  1242172998  6101          rail  None      0      F      F   \n",
       "52597  1242172999  6101          rail  None      0      F      F   \n",
       "52598  1242294592  6101          rail  None      0      F      F   \n",
       "52599  1242767423  6106  narrow_gauge  None      0      F      F   \n",
       "52600  1242767424  6106  narrow_gauge  None      0      F      F   \n",
       "\n",
       "                                                geometry  \n",
       "0      LINESTRING (7.49353 47.01410, 7.49345 47.01405...  \n",
       "1        LINESTRING (9.37312 47.42627, 9.37271 47.42592)  \n",
       "2      LINESTRING (9.30402 47.40330, 9.30224 47.40371...  \n",
       "3      LINESTRING (8.53644 47.40599, 8.53635 47.40585...  \n",
       "4      LINESTRING (8.52087 47.38423, 8.52062 47.38429...  \n",
       "...                                                  ...  \n",
       "52596  LINESTRING (6.72229 46.48775, 6.72286 46.48773...  \n",
       "52597  LINESTRING (6.72286 46.48773, 6.72317 46.48774...  \n",
       "52598  LINESTRING (6.72229 46.48775, 6.72265 46.48772...  \n",
       "52599  LINESTRING (7.90225 46.63169, 7.90210 46.63170...  \n",
       "52600  LINESTRING (7.90279 46.63166, 7.90243 46.63168...  \n",
       "\n",
       "[52601 rows x 8 columns]"
      ]
     },
     "execution_count": 16,
     "metadata": {},
     "output_type": "execute_result"
    }
   ],
   "source": [
    "# papermill_description=LoadRailways\n",
    "path = f\"zip://{input_path}!gis_osm_railways_free_1.shp\"\n",
    "railway_df = pyogrio.read_dataframe(path)\n",
    "railway_df"
   ]
  },
  {
   "cell_type": "code",
   "execution_count": 17,
   "id": "9a3d6c1b-86db-46a2-8e3d-85b43f2a3db5",
   "metadata": {},
   "outputs": [
    {
     "data": {
      "text/plain": [
       "fclass\n",
       "funicular              571\n",
       "light_rail             220\n",
       "miniature_railway      758\n",
       "monorail                21\n",
       "narrow_gauge          7824\n",
       "rack                  1028\n",
       "rail                 39341\n",
       "subway                  82\n",
       "tram                  2756\n",
       "Name: count, dtype: int64"
      ]
     },
     "execution_count": 17,
     "metadata": {},
     "output_type": "execute_result"
    }
   ],
   "source": [
    "railway_df[\"fclass\"].value_counts().sort_index()"
   ]
  },
  {
   "cell_type": "code",
   "execution_count": 18,
   "id": "b53eedfe-7274-4b0c-8447-b820f6946c92",
   "metadata": {},
   "outputs": [
    {
     "data": {
      "text/plain": [
       "tunnel\n",
       "F    50413\n",
       "T     2188\n",
       "Name: count, dtype: int64"
      ]
     },
     "execution_count": 18,
     "metadata": {},
     "output_type": "execute_result"
    }
   ],
   "source": [
    "railway_df[\"tunnel\"].value_counts()"
   ]
  },
  {
   "cell_type": "code",
   "execution_count": 19,
   "id": "5ae40a59-5112-4afc-9172-b5b7ab936bc0",
   "metadata": {},
   "outputs": [],
   "source": [
    "# Ignore tunnels\n",
    "railway_df = railway_df[railway_df[\"tunnel\"] == \"F\"]"
   ]
  },
  {
   "cell_type": "code",
   "execution_count": 20,
   "id": "f8a62ecf-3b4e-4945-bffb-2ddd6a387108",
   "metadata": {},
   "outputs": [],
   "source": [
    "# Filter out some classes\n",
    "classes = {\n",
    "    \"funicular\",\n",
    "    \"light_rail\",\n",
    "    # \"miniature_railway\",\n",
    "    # \"monorail\",\n",
    "    \"narrow_gauge\",\n",
    "    \"rack\",\n",
    "    \"rail\",\n",
    "    \"subway\",\n",
    "    \"tram\",\n",
    "}\n",
    "railway_df = railway_df[railway_df[\"fclass\"].isin(classes)]"
   ]
  },
  {
   "cell_type": "code",
   "execution_count": 21,
   "id": "c0da000f-edcd-4540-add3-730363fa9158",
   "metadata": {},
   "outputs": [],
   "source": [
    "# Arbitrary select width, as none is provided\n",
    "railway_df[\"width\"] = 10"
   ]
  },
  {
   "cell_type": "markdown",
   "id": "625c7c5e-3959-4924-a9e6-8483c3689af4",
   "metadata": {},
   "source": [
    "### Water and waterways"
   ]
  },
  {
   "cell_type": "code",
   "execution_count": 22,
   "id": "c441a732-1134-42e8-968c-97aa687973eb",
   "metadata": {
    "editable": true,
    "slideshow": {
     "slide_type": ""
    },
    "tags": []
   },
   "outputs": [
    {
     "data": {
      "text/html": [
       "<div>\n",
       "<style scoped>\n",
       "    .dataframe tbody tr th:only-of-type {\n",
       "        vertical-align: middle;\n",
       "    }\n",
       "\n",
       "    .dataframe tbody tr th {\n",
       "        vertical-align: top;\n",
       "    }\n",
       "\n",
       "    .dataframe thead th {\n",
       "        text-align: right;\n",
       "    }\n",
       "</style>\n",
       "<table border=\"1\" class=\"dataframe\">\n",
       "  <thead>\n",
       "    <tr style=\"text-align: right;\">\n",
       "      <th></th>\n",
       "      <th>osm_id</th>\n",
       "      <th>code</th>\n",
       "      <th>fclass</th>\n",
       "      <th>name</th>\n",
       "      <th>geometry</th>\n",
       "    </tr>\n",
       "  </thead>\n",
       "  <tbody>\n",
       "    <tr>\n",
       "      <th>0</th>\n",
       "      <td>4245438</td>\n",
       "      <td>8200</td>\n",
       "      <td>water</td>\n",
       "      <td>Seelisbergsee</td>\n",
       "      <td>POLYGON ((8.56781 46.95808, 8.56782 46.95815, ...</td>\n",
       "    </tr>\n",
       "    <tr>\n",
       "      <th>1</th>\n",
       "      <td>4264525</td>\n",
       "      <td>8201</td>\n",
       "      <td>reservoir</td>\n",
       "      <td>Pfaffensprung-Stausee</td>\n",
       "      <td>POLYGON ((8.60833 46.71275, 8.60834 46.71283, ...</td>\n",
       "    </tr>\n",
       "    <tr>\n",
       "      <th>2</th>\n",
       "      <td>4264538</td>\n",
       "      <td>8201</td>\n",
       "      <td>reservoir</td>\n",
       "      <td>Göscheneralpsee</td>\n",
       "      <td>POLYGON ((8.46877 46.64873, 8.46883 46.64891, ...</td>\n",
       "    </tr>\n",
       "    <tr>\n",
       "      <th>3</th>\n",
       "      <td>4270536</td>\n",
       "      <td>8200</td>\n",
       "      <td>water</td>\n",
       "      <td>Lago della Piazza</td>\n",
       "      <td>POLYGON ((8.56424 46.55724, 8.56429 46.55727, ...</td>\n",
       "    </tr>\n",
       "    <tr>\n",
       "      <th>4</th>\n",
       "      <td>4270537</td>\n",
       "      <td>8200</td>\n",
       "      <td>water</td>\n",
       "      <td>Lago Scuro</td>\n",
       "      <td>POLYGON ((8.56456 46.55869, 8.56460 46.55882, ...</td>\n",
       "    </tr>\n",
       "    <tr>\n",
       "      <th>...</th>\n",
       "      <td>...</td>\n",
       "      <td>...</td>\n",
       "      <td>...</td>\n",
       "      <td>...</td>\n",
       "      <td>...</td>\n",
       "    </tr>\n",
       "    <tr>\n",
       "      <th>27367</th>\n",
       "      <td>1242544286</td>\n",
       "      <td>8200</td>\n",
       "      <td>water</td>\n",
       "      <td>None</td>\n",
       "      <td>POLYGON ((9.57991 46.45703, 9.57996 46.45703, ...</td>\n",
       "    </tr>\n",
       "    <tr>\n",
       "      <th>27368</th>\n",
       "      <td>1242596793</td>\n",
       "      <td>8200</td>\n",
       "      <td>water</td>\n",
       "      <td>None</td>\n",
       "      <td>POLYGON ((8.40500 47.44256, 8.40500 47.44257, ...</td>\n",
       "    </tr>\n",
       "    <tr>\n",
       "      <th>27369</th>\n",
       "      <td>1242683235</td>\n",
       "      <td>8200</td>\n",
       "      <td>water</td>\n",
       "      <td>None</td>\n",
       "      <td>POLYGON ((7.90772 47.36562, 7.90772 47.36563, ...</td>\n",
       "    </tr>\n",
       "    <tr>\n",
       "      <th>27370</th>\n",
       "      <td>1242808257</td>\n",
       "      <td>8200</td>\n",
       "      <td>water</td>\n",
       "      <td>None</td>\n",
       "      <td>POLYGON ((9.26284 46.66809, 9.26293 46.66816, ...</td>\n",
       "    </tr>\n",
       "    <tr>\n",
       "      <th>27371</th>\n",
       "      <td>1242808258</td>\n",
       "      <td>8200</td>\n",
       "      <td>water</td>\n",
       "      <td>None</td>\n",
       "      <td>POLYGON ((9.29997 46.72541, 9.30002 46.72543, ...</td>\n",
       "    </tr>\n",
       "  </tbody>\n",
       "</table>\n",
       "<p>27372 rows × 5 columns</p>\n",
       "</div>"
      ],
      "text/plain": [
       "           osm_id  code     fclass                   name  \\\n",
       "0         4245438  8200      water          Seelisbergsee   \n",
       "1         4264525  8201  reservoir  Pfaffensprung-Stausee   \n",
       "2         4264538  8201  reservoir        Göscheneralpsee   \n",
       "3         4270536  8200      water      Lago della Piazza   \n",
       "4         4270537  8200      water             Lago Scuro   \n",
       "...           ...   ...        ...                    ...   \n",
       "27367  1242544286  8200      water                   None   \n",
       "27368  1242596793  8200      water                   None   \n",
       "27369  1242683235  8200      water                   None   \n",
       "27370  1242808257  8200      water                   None   \n",
       "27371  1242808258  8200      water                   None   \n",
       "\n",
       "                                                geometry  \n",
       "0      POLYGON ((8.56781 46.95808, 8.56782 46.95815, ...  \n",
       "1      POLYGON ((8.60833 46.71275, 8.60834 46.71283, ...  \n",
       "2      POLYGON ((8.46877 46.64873, 8.46883 46.64891, ...  \n",
       "3      POLYGON ((8.56424 46.55724, 8.56429 46.55727, ...  \n",
       "4      POLYGON ((8.56456 46.55869, 8.56460 46.55882, ...  \n",
       "...                                                  ...  \n",
       "27367  POLYGON ((9.57991 46.45703, 9.57996 46.45703, ...  \n",
       "27368  POLYGON ((8.40500 47.44256, 8.40500 47.44257, ...  \n",
       "27369  POLYGON ((7.90772 47.36562, 7.90772 47.36563, ...  \n",
       "27370  POLYGON ((9.26284 46.66809, 9.26293 46.66816, ...  \n",
       "27371  POLYGON ((9.29997 46.72541, 9.30002 46.72543, ...  \n",
       "\n",
       "[27372 rows x 5 columns]"
      ]
     },
     "execution_count": 22,
     "metadata": {},
     "output_type": "execute_result"
    }
   ],
   "source": [
    "# papermill_description=LoadWater\n",
    "path = f\"zip://{input_path}!gis_osm_water_a_free_1.shp\"\n",
    "water_df = pyogrio.read_dataframe(path)\n",
    "water_df"
   ]
  },
  {
   "cell_type": "code",
   "execution_count": 23,
   "id": "6afa0c0b-5b5b-4723-a8fb-8375d4edef7f",
   "metadata": {},
   "outputs": [
    {
     "data": {
      "text/plain": [
       "fclass\n",
       "water        19607\n",
       "wetland       4106\n",
       "riverbank     1443\n",
       "reservoir     1155\n",
       "glacier       1052\n",
       "dock             9\n",
       "Name: count, dtype: int64"
      ]
     },
     "execution_count": 23,
     "metadata": {},
     "output_type": "execute_result"
    }
   ],
   "source": [
    "water_df[\"fclass\"].value_counts()"
   ]
  },
  {
   "cell_type": "code",
   "execution_count": 24,
   "id": "6460b4bf-e273-490c-8eff-3215ae078cb3",
   "metadata": {},
   "outputs": [],
   "source": [
    "# Filter out some classes\n",
    "classes = {\n",
    "    # \"dock\",\n",
    "    # \"glacier\",\n",
    "    \"reservoir\",\n",
    "    \"river\",\n",
    "    # \"riverbank\",\n",
    "    \"water\",\n",
    "    \"wetland\",\n",
    "}\n",
    "water_df = water_df[water_df[\"fclass\"].isin(classes)]"
   ]
  },
  {
   "cell_type": "code",
   "execution_count": 25,
   "id": "a76796f9-3b93-4bd7-adaa-1ddfd8f4cc6c",
   "metadata": {
    "editable": true,
    "slideshow": {
     "slide_type": ""
    },
    "tags": []
   },
   "outputs": [
    {
     "data": {
      "text/html": [
       "<div>\n",
       "<style scoped>\n",
       "    .dataframe tbody tr th:only-of-type {\n",
       "        vertical-align: middle;\n",
       "    }\n",
       "\n",
       "    .dataframe tbody tr th {\n",
       "        vertical-align: top;\n",
       "    }\n",
       "\n",
       "    .dataframe thead th {\n",
       "        text-align: right;\n",
       "    }\n",
       "</style>\n",
       "<table border=\"1\" class=\"dataframe\">\n",
       "  <thead>\n",
       "    <tr style=\"text-align: right;\">\n",
       "      <th></th>\n",
       "      <th>osm_id</th>\n",
       "      <th>code</th>\n",
       "      <th>fclass</th>\n",
       "      <th>width</th>\n",
       "      <th>name</th>\n",
       "      <th>geometry</th>\n",
       "    </tr>\n",
       "  </thead>\n",
       "  <tbody>\n",
       "    <tr>\n",
       "      <th>0</th>\n",
       "      <td>4223448</td>\n",
       "      <td>8101</td>\n",
       "      <td>river</td>\n",
       "      <td>0</td>\n",
       "      <td>Äussere Aare</td>\n",
       "      <td>LINESTRING (7.63280 46.75648, 7.63245 46.75650...</td>\n",
       "    </tr>\n",
       "    <tr>\n",
       "      <th>1</th>\n",
       "      <td>4224611</td>\n",
       "      <td>8103</td>\n",
       "      <td>canal</td>\n",
       "      <td>0</td>\n",
       "      <td>None</td>\n",
       "      <td>LINESTRING (7.63540 46.74993, 7.63267 46.75318...</td>\n",
       "    </tr>\n",
       "    <tr>\n",
       "      <th>2</th>\n",
       "      <td>4224616</td>\n",
       "      <td>8101</td>\n",
       "      <td>river</td>\n",
       "      <td>0</td>\n",
       "      <td>Innere Aare</td>\n",
       "      <td>LINESTRING (7.63280 46.75648, 7.63243 46.75701...</td>\n",
       "    </tr>\n",
       "    <tr>\n",
       "      <th>3</th>\n",
       "      <td>4245442</td>\n",
       "      <td>8101</td>\n",
       "      <td>river</td>\n",
       "      <td>0</td>\n",
       "      <td>Reuss</td>\n",
       "      <td>LINESTRING (8.63822 46.83041, 8.63796 46.83080...</td>\n",
       "    </tr>\n",
       "    <tr>\n",
       "      <th>4</th>\n",
       "      <td>4245448</td>\n",
       "      <td>8101</td>\n",
       "      <td>river</td>\n",
       "      <td>0</td>\n",
       "      <td>Reuss</td>\n",
       "      <td>LINESTRING (8.66776 46.76685, 8.66829 46.76706...</td>\n",
       "    </tr>\n",
       "    <tr>\n",
       "      <th>...</th>\n",
       "      <td>...</td>\n",
       "      <td>...</td>\n",
       "      <td>...</td>\n",
       "      <td>...</td>\n",
       "      <td>...</td>\n",
       "      <td>...</td>\n",
       "    </tr>\n",
       "    <tr>\n",
       "      <th>149055</th>\n",
       "      <td>1242544312</td>\n",
       "      <td>8102</td>\n",
       "      <td>stream</td>\n",
       "      <td>0</td>\n",
       "      <td>None</td>\n",
       "      <td>LINESTRING (9.54777 46.45467, 9.54773 46.45463)</td>\n",
       "    </tr>\n",
       "    <tr>\n",
       "      <th>149056</th>\n",
       "      <td>1242752721</td>\n",
       "      <td>8102</td>\n",
       "      <td>stream</td>\n",
       "      <td>0</td>\n",
       "      <td>None</td>\n",
       "      <td>LINESTRING (6.87959 47.20258, 6.87968 47.20238...</td>\n",
       "    </tr>\n",
       "    <tr>\n",
       "      <th>149057</th>\n",
       "      <td>1242842545</td>\n",
       "      <td>8102</td>\n",
       "      <td>stream</td>\n",
       "      <td>0</td>\n",
       "      <td>None</td>\n",
       "      <td>LINESTRING (9.31977 46.75822, 9.31910 46.75868...</td>\n",
       "    </tr>\n",
       "    <tr>\n",
       "      <th>149058</th>\n",
       "      <td>1242842546</td>\n",
       "      <td>8102</td>\n",
       "      <td>stream</td>\n",
       "      <td>0</td>\n",
       "      <td>None</td>\n",
       "      <td>LINESTRING (9.31788 46.75696, 9.31757 46.75722...</td>\n",
       "    </tr>\n",
       "    <tr>\n",
       "      <th>149059</th>\n",
       "      <td>1242842547</td>\n",
       "      <td>8102</td>\n",
       "      <td>stream</td>\n",
       "      <td>0</td>\n",
       "      <td>None</td>\n",
       "      <td>LINESTRING (9.31597 46.76095, 9.31567 46.76082...</td>\n",
       "    </tr>\n",
       "  </tbody>\n",
       "</table>\n",
       "<p>149060 rows × 6 columns</p>\n",
       "</div>"
      ],
      "text/plain": [
       "            osm_id  code  fclass  width          name  \\\n",
       "0          4223448  8101   river      0  Äussere Aare   \n",
       "1          4224611  8103   canal      0          None   \n",
       "2          4224616  8101   river      0   Innere Aare   \n",
       "3          4245442  8101   river      0         Reuss   \n",
       "4          4245448  8101   river      0         Reuss   \n",
       "...            ...   ...     ...    ...           ...   \n",
       "149055  1242544312  8102  stream      0          None   \n",
       "149056  1242752721  8102  stream      0          None   \n",
       "149057  1242842545  8102  stream      0          None   \n",
       "149058  1242842546  8102  stream      0          None   \n",
       "149059  1242842547  8102  stream      0          None   \n",
       "\n",
       "                                                 geometry  \n",
       "0       LINESTRING (7.63280 46.75648, 7.63245 46.75650...  \n",
       "1       LINESTRING (7.63540 46.74993, 7.63267 46.75318...  \n",
       "2       LINESTRING (7.63280 46.75648, 7.63243 46.75701...  \n",
       "3       LINESTRING (8.63822 46.83041, 8.63796 46.83080...  \n",
       "4       LINESTRING (8.66776 46.76685, 8.66829 46.76706...  \n",
       "...                                                   ...  \n",
       "149055    LINESTRING (9.54777 46.45467, 9.54773 46.45463)  \n",
       "149056  LINESTRING (6.87959 47.20258, 6.87968 47.20238...  \n",
       "149057  LINESTRING (9.31977 46.75822, 9.31910 46.75868...  \n",
       "149058  LINESTRING (9.31788 46.75696, 9.31757 46.75722...  \n",
       "149059  LINESTRING (9.31597 46.76095, 9.31567 46.76082...  \n",
       "\n",
       "[149060 rows x 6 columns]"
      ]
     },
     "execution_count": 25,
     "metadata": {},
     "output_type": "execute_result"
    }
   ],
   "source": [
    "# papermill_description=LoadWaterways\n",
    "path = f\"zip://{input_path}!gis_osm_waterways_free_1.shp\"\n",
    "waterway_df = gpd.read_file(path)\n",
    "waterway_df"
   ]
  },
  {
   "cell_type": "code",
   "execution_count": 26,
   "id": "6e013c23-54ee-4345-bc0a-65d8753c2c69",
   "metadata": {},
   "outputs": [
    {
     "data": {
      "text/plain": [
       "fclass\n",
       "stream    140718\n",
       "drain       3867\n",
       "river       2508\n",
       "canal       1967\n",
       "Name: count, dtype: int64"
      ]
     },
     "execution_count": 26,
     "metadata": {},
     "output_type": "execute_result"
    }
   ],
   "source": [
    "waterway_df[\"fclass\"].value_counts()"
   ]
  },
  {
   "cell_type": "code",
   "execution_count": 27,
   "id": "0726915d-352b-49cc-9c25-2dc30573e441",
   "metadata": {},
   "outputs": [],
   "source": [
    "# Override line widths\n",
    "# TODO fine-tune these values\n",
    "widths = {\n",
    "    \"stream\": 10,\n",
    "    \"drain\": 10,\n",
    "    \"river\": 50,\n",
    "    \"canal\": 50,\n",
    "}\n",
    "assert waterway_df[\"fclass\"].isin(widths).all()\n",
    "waterway_df[\"width\"] = waterway_df[\"fclass\"].map(widths)"
   ]
  },
  {
   "cell_type": "markdown",
   "id": "c143763f-ae7a-4c45-9f17-72357a8ef4d5",
   "metadata": {},
   "source": [
    "## Rasterize layers"
   ]
  },
  {
   "cell_type": "code",
   "execution_count": 28,
   "id": "7c0696b1-319a-4f8b-a0c1-3d8e87b16575",
   "metadata": {},
   "outputs": [],
   "source": [
    "# Select geometry for each GeoTIFF channel\n",
    "dfs = {\n",
    "    \"building\": building_df,\n",
    "    \"road\": road_df,\n",
    "    \"railway\": railway_df,\n",
    "    \"water\": water_df,\n",
    "    \"waterway\": waterway_df,\n",
    "    \"forest\": forest_df,\n",
    "}"
   ]
  },
  {
   "cell_type": "code",
   "execution_count": 29,
   "id": "74399d98-3bd5-48bd-ada7-bf1ce7dd0329",
   "metadata": {},
   "outputs": [
    {
     "data": {
      "text/plain": [
       "<Projected CRS: EPSG:21781>\n",
       "Name: CH1903 / LV03\n",
       "Axis Info [cartesian]:\n",
       "- Y[east]: Easting (metre)\n",
       "- X[north]: Northing (metre)\n",
       "Area of Use:\n",
       "- name: Liechtenstein; Switzerland.\n",
       "- bounds: (5.96, 45.82, 10.49, 47.81)\n",
       "Coordinate Operation:\n",
       "- name: Swiss Oblique Mercator 1903M\n",
       "- method: Hotine Oblique Mercator (variant B)\n",
       "Datum: CH1903\n",
       "- Ellipsoid: Bessel 1841\n",
       "- Prime Meridian: Greenwich"
      ]
     },
     "execution_count": 29,
     "metadata": {},
     "output_type": "execute_result"
    }
   ],
   "source": [
    "# Using LV03\n",
    "# https://epsg.io/21781\n",
    "# TODO should probably use LV95 instead?\n",
    "crs = CRS.from_epsg(21781)\n",
    "crs"
   ]
  },
  {
   "cell_type": "code",
   "execution_count": 30,
   "id": "63644ba0-9b51-4048-a3f9-c1f0bc2e6d6a",
   "metadata": {},
   "outputs": [
    {
     "data": {
      "text/plain": [
       "(485014.011782823, 74129.69800843272, 837016.8922540342, 299782.7670088512)"
      ]
     },
     "execution_count": 30,
     "metadata": {},
     "output_type": "execute_result"
    }
   ],
   "source": [
    "# Use official bounds\n",
    "transformer = Transformer.from_crs(crs.geodetic_crs, crs, always_xy=True)\n",
    "bounds = crs.area_of_use.bounds\n",
    "x_min, y_min, x_max, y_max = transformer.transform_bounds(*bounds)\n",
    "x_min, y_min, x_max, y_max"
   ]
  },
  {
   "cell_type": "code",
   "execution_count": 31,
   "id": "45447a68-8520-4a1e-8af8-9d0039621432",
   "metadata": {
    "editable": true,
    "slideshow": {
     "slide_type": ""
    },
    "tags": []
   },
   "outputs": [
    {
     "data": {
      "text/plain": [
       "(485000, 74100, 837100, 299800)"
      ]
     },
     "execution_count": 31,
     "metadata": {},
     "output_type": "execute_result"
    }
   ],
   "source": [
    "# Round bounds accordingly, so that we are aligned on a multiple of the step\n",
    "x_min = math.floor(x_min / step) * step\n",
    "y_min = math.floor(y_min / step) * step\n",
    "x_max = math.ceil(x_max / step) * step\n",
    "y_max = math.ceil(y_max / step) * step\n",
    "x_min, y_min, x_max, y_max"
   ]
  },
  {
   "cell_type": "code",
   "execution_count": 32,
   "id": "9b5491e4-630e-4a04-91bc-dc09a6e32356",
   "metadata": {},
   "outputs": [
    {
     "data": {
      "text/plain": [
       "(2257, 3521)"
      ]
     },
     "execution_count": 32,
     "metadata": {},
     "output_type": "execute_result"
    }
   ],
   "source": [
    "# Raster shape\n",
    "width = (x_max - x_min) // step\n",
    "height = (y_max - y_min) // step\n",
    "height, width"
   ]
  },
  {
   "cell_type": "code",
   "execution_count": 33,
   "id": "17a7adb3-6325-4826-a962-6e7921fc70ec",
   "metadata": {
    "editable": true,
    "slideshow": {
     "slide_type": ""
    },
    "tags": []
   },
   "outputs": [],
   "source": [
    "# papermill_description=ConvertCRS\n",
    "dfs = {name: df.to_crs(crs) for name, df in dfs.items()}"
   ]
  },
  {
   "cell_type": "code",
   "execution_count": 34,
   "id": "b4c5fc10-c521-4be2-abd6-0c877d208c30",
   "metadata": {
    "editable": true,
    "slideshow": {
     "slide_type": ""
    },
    "tags": []
   },
   "outputs": [
    {
     "data": {
      "application/vnd.jupyter.widget-view+json": {
       "model_id": "54ada62ea2944fff89cbe79018f5f880",
       "version_major": 2,
       "version_minor": 0
      },
      "text/plain": [
       "  0%|          | 0/6 [00:00<?, ?it/s]"
      ]
     },
     "metadata": {},
     "output_type": "display_data"
    },
    {
     "data": {
      "application/vnd.jupyter.widget-view+json": {
       "model_id": "e614c82730d24eeb815a0c5d7eb47a24",
       "version_major": 2,
       "version_minor": 0
      },
      "text/plain": [
       "  0%|          | 0/2653333 [00:00<?, ?it/s]"
      ]
     },
     "metadata": {},
     "output_type": "display_data"
    },
    {
     "data": {
      "application/vnd.jupyter.widget-view+json": {
       "model_id": "f2884d23942c409eaf015b1102ab964f",
       "version_major": 2,
       "version_minor": 0
      },
      "text/plain": [
       "  0%|          | 0/1619216 [00:00<?, ?it/s]"
      ]
     },
     "metadata": {},
     "output_type": "display_data"
    },
    {
     "data": {
      "application/vnd.jupyter.widget-view+json": {
       "model_id": "7214248f10454613bc3f4dcde26089d0",
       "version_major": 2,
       "version_minor": 0
      },
      "text/plain": [
       "  0%|          | 0/49709 [00:00<?, ?it/s]"
      ]
     },
     "metadata": {},
     "output_type": "display_data"
    },
    {
     "data": {
      "application/vnd.jupyter.widget-view+json": {
       "model_id": "38ac7909a672461491338e15cff2a90c",
       "version_major": 2,
       "version_minor": 0
      },
      "text/plain": [
       "  0%|          | 0/24868 [00:00<?, ?it/s]"
      ]
     },
     "metadata": {},
     "output_type": "display_data"
    },
    {
     "data": {
      "application/vnd.jupyter.widget-view+json": {
       "model_id": "dcc21924288b449f9b27887546e56e12",
       "version_major": 2,
       "version_minor": 0
      },
      "text/plain": [
       "  0%|          | 0/149060 [00:00<?, ?it/s]"
      ]
     },
     "metadata": {},
     "output_type": "display_data"
    },
    {
     "data": {
      "application/vnd.jupyter.widget-view+json": {
       "model_id": "b79b7e7bde5e4310991072ef960c36fd",
       "version_major": 2,
       "version_minor": 0
      },
      "text/plain": [
       "  0%|          | 0/97639 [00:00<?, ?it/s]"
      ]
     },
     "metadata": {},
     "output_type": "display_data"
    }
   ],
   "source": [
    "# papermill_description=Rasterize\n",
    "\n",
    "\n",
    "def transform(x, y):\n",
    "    x = (x - x_min) / step\n",
    "    y = (y_max - y) / step\n",
    "    return x, y\n",
    "\n",
    "\n",
    "def add_path(ctx, coords, close):\n",
    "    x, y = coords[0]\n",
    "    x, y = transform(x, y)\n",
    "    ctx.move_to(x, y)\n",
    "\n",
    "    for x, y in coords[1:]:\n",
    "        x, y = transform(x, y)\n",
    "        ctx.line_to(x, y)\n",
    "\n",
    "    if close:\n",
    "        ctx.close_path()\n",
    "\n",
    "\n",
    "def add_polygon(ctx, polygon):\n",
    "    add_path(ctx, polygon.exterior.coords, close=True)\n",
    "    for interior in polygon.interiors:\n",
    "        add_path(ctx, interior.coords, close=True)\n",
    "\n",
    "\n",
    "def rasterize(df):\n",
    "    # Use Cairo to rasterize geometry with fractional coverage\n",
    "    # Note: `rasterio.features.rasterize` only support binary coverage\n",
    "    surface = cairo.ImageSurface(cairo.FORMAT_RGB96F, width, height)\n",
    "    ctx = cairo.Context(surface)\n",
    "    ctx.set_source_rgb(1.0, 1.0, 1.0)\n",
    "    ctx.set_fill_rule(cairo.FILL_RULE_EVEN_ODD)\n",
    "\n",
    "    for index, geometry in tqdm(df.geometry.items(), total=len(df)):\n",
    "        match geometry.geom_type:\n",
    "            case \"Polygon\":\n",
    "                add_polygon(ctx, geometry)\n",
    "                ctx.fill()\n",
    "\n",
    "            case \"MultiPolygon\":\n",
    "                for polygon in geometry.geoms:\n",
    "                    add_polygon(ctx, polygon)\n",
    "                ctx.fill()\n",
    "\n",
    "            case \"LineString\":\n",
    "                ctx.set_line_width(df.loc[index, \"width\"])\n",
    "                add_path(ctx, geometry.coords, close=False)\n",
    "                ctx.stroke()\n",
    "\n",
    "            case _:\n",
    "                raise NotImplementedError\n",
    "\n",
    "    # Extract raster as array\n",
    "    buffer = surface.get_data()\n",
    "    array = np.frombuffer(buffer, dtype=np.float32).reshape(height, width, 3)\n",
    "\n",
    "    # Only keep a single channel, as the rendered image is grayscale anyway\n",
    "    array = array[:, :, 0]\n",
    "\n",
    "    return array\n",
    "\n",
    "\n",
    "# Rasterize each layer separately\n",
    "arrays = {}\n",
    "for name, df in tqdm(dfs.items()):\n",
    "    array = rasterize(df)\n",
    "    arrays[name] = array"
   ]
  },
  {
   "cell_type": "code",
   "execution_count": 35,
   "id": "d713afdf-dd74-4766-a053-96c40be28f30",
   "metadata": {
    "editable": true,
    "slideshow": {
     "slide_type": ""
    },
    "tags": []
   },
   "outputs": [],
   "source": [
    "# papermill_description=ExportGeoTiff\n",
    "metadata = {\n",
    "    \"width\": width,\n",
    "    \"height\": height,\n",
    "    \"count\": len(arrays),\n",
    "    \"crs\": crs,\n",
    "    \"transform\": rasterio.transform.from_origin(x_min, y_max, step, step),\n",
    "    \"dtype\": np.uint8,\n",
    "}\n",
    "with rasterio.open(output_path, \"w\", **metadata) as dst:\n",
    "    for i, (name, array) in enumerate(arrays.items(), start=1):\n",
    "        dst.write(array * 255, i)\n",
    "        dst.set_band_description(i, name)"
   ]
  }
 ],
 "metadata": {
  "kernelspec": {
   "display_name": "Python 3 (ipykernel)",
   "language": "python",
   "name": "python3"
  },
  "language_info": {
   "codemirror_mode": {
    "name": "ipython",
    "version": 3
   },
   "file_extension": ".py",
   "mimetype": "text/x-python",
   "name": "python",
   "nbconvert_exporter": "python",
   "pygments_lexer": "ipython3",
   "version": "3.10.13"
  }
 },
 "nbformat": 4,
 "nbformat_minor": 5
}
